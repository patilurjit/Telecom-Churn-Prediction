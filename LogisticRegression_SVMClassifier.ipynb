{
 "cells": [
  {
   "cell_type": "code",
   "execution_count": 33,
   "id": "e80c159e-6523-4220-b6f8-5c711af1cf67",
   "metadata": {},
   "outputs": [],
   "source": [
    "import pandas as pd\n",
    "import numpy as np\n",
    "from sklearn.model_selection import train_test_split, GridSearchCV\n",
    "from sklearn.feature_selection import SelectKBest, f_classif\n",
    "from sklearn.linear_model import LogisticRegression, LogisticRegressionCV, Lasso\n",
    "from sklearn.tree import DecisionTreeClassifier\n",
    "from sklearn.svm import SVC\n",
    "from sklearn.ensemble import GradientBoostingClassifier, RandomForestClassifier, VotingClassifier, BaggingClassifier\n",
    "import xgboost as xgb\n",
    "from sklearn.neighbors import KNeighborsClassifier\n",
    "from sklearn.preprocessing import StandardScaler\n",
    "import matplotlib.pyplot as plt\n",
    "import seaborn as sns\n",
    "from sklearn.metrics import plot_confusion_matrix, f1_score, roc_curve, auc, classification_report, confusion_matrix, precision_recall_curve, recall_score, precision_score, accuracy_score, roc_auc_score, make_scorer"
   ]
  },
  {
   "cell_type": "code",
   "execution_count": 2,
   "id": "993cdacc-961e-4025-b384-1692eac9e111",
   "metadata": {},
   "outputs": [
    {
     "data": {
      "text/html": [
       "<div>\n",
       "<style scoped>\n",
       "    .dataframe tbody tr th:only-of-type {\n",
       "        vertical-align: middle;\n",
       "    }\n",
       "\n",
       "    .dataframe tbody tr th {\n",
       "        vertical-align: top;\n",
       "    }\n",
       "\n",
       "    .dataframe thead th {\n",
       "        text-align: right;\n",
       "    }\n",
       "</style>\n",
       "<table border=\"1\" class=\"dataframe\">\n",
       "  <thead>\n",
       "    <tr style=\"text-align: right;\">\n",
       "      <th></th>\n",
       "      <th>customerID</th>\n",
       "      <th>gender</th>\n",
       "      <th>SeniorCitizen</th>\n",
       "      <th>Partner</th>\n",
       "      <th>Dependents</th>\n",
       "      <th>tenure</th>\n",
       "      <th>PhoneService</th>\n",
       "      <th>MultipleLines</th>\n",
       "      <th>InternetService</th>\n",
       "      <th>OnlineSecurity</th>\n",
       "      <th>...</th>\n",
       "      <th>StreamingTV</th>\n",
       "      <th>StreamingMovies</th>\n",
       "      <th>Contract</th>\n",
       "      <th>PaperlessBilling</th>\n",
       "      <th>PaymentMethod</th>\n",
       "      <th>MonthlyCharges</th>\n",
       "      <th>TotalCharges</th>\n",
       "      <th>numAdminTickets</th>\n",
       "      <th>numTechTickets</th>\n",
       "      <th>Churn</th>\n",
       "    </tr>\n",
       "  </thead>\n",
       "  <tbody>\n",
       "    <tr>\n",
       "      <th>0</th>\n",
       "      <td>7590-VHVEG</td>\n",
       "      <td>Female</td>\n",
       "      <td>0</td>\n",
       "      <td>Yes</td>\n",
       "      <td>No</td>\n",
       "      <td>1</td>\n",
       "      <td>No</td>\n",
       "      <td>No phone service</td>\n",
       "      <td>DSL</td>\n",
       "      <td>No</td>\n",
       "      <td>...</td>\n",
       "      <td>No</td>\n",
       "      <td>No</td>\n",
       "      <td>Month-to-month</td>\n",
       "      <td>Yes</td>\n",
       "      <td>Electronic check</td>\n",
       "      <td>29.85</td>\n",
       "      <td>29.85</td>\n",
       "      <td>0</td>\n",
       "      <td>0</td>\n",
       "      <td>No</td>\n",
       "    </tr>\n",
       "    <tr>\n",
       "      <th>1</th>\n",
       "      <td>5575-GNVDE</td>\n",
       "      <td>Male</td>\n",
       "      <td>0</td>\n",
       "      <td>No</td>\n",
       "      <td>No</td>\n",
       "      <td>34</td>\n",
       "      <td>Yes</td>\n",
       "      <td>No</td>\n",
       "      <td>DSL</td>\n",
       "      <td>Yes</td>\n",
       "      <td>...</td>\n",
       "      <td>No</td>\n",
       "      <td>No</td>\n",
       "      <td>One year</td>\n",
       "      <td>No</td>\n",
       "      <td>Mailed check</td>\n",
       "      <td>56.95</td>\n",
       "      <td>1889.5</td>\n",
       "      <td>0</td>\n",
       "      <td>0</td>\n",
       "      <td>No</td>\n",
       "    </tr>\n",
       "    <tr>\n",
       "      <th>2</th>\n",
       "      <td>3668-QPYBK</td>\n",
       "      <td>Male</td>\n",
       "      <td>0</td>\n",
       "      <td>No</td>\n",
       "      <td>No</td>\n",
       "      <td>2</td>\n",
       "      <td>Yes</td>\n",
       "      <td>No</td>\n",
       "      <td>DSL</td>\n",
       "      <td>Yes</td>\n",
       "      <td>...</td>\n",
       "      <td>No</td>\n",
       "      <td>No</td>\n",
       "      <td>Month-to-month</td>\n",
       "      <td>Yes</td>\n",
       "      <td>Mailed check</td>\n",
       "      <td>53.85</td>\n",
       "      <td>108.15</td>\n",
       "      <td>0</td>\n",
       "      <td>0</td>\n",
       "      <td>Yes</td>\n",
       "    </tr>\n",
       "    <tr>\n",
       "      <th>3</th>\n",
       "      <td>7795-CFOCW</td>\n",
       "      <td>Male</td>\n",
       "      <td>0</td>\n",
       "      <td>No</td>\n",
       "      <td>No</td>\n",
       "      <td>45</td>\n",
       "      <td>No</td>\n",
       "      <td>No phone service</td>\n",
       "      <td>DSL</td>\n",
       "      <td>Yes</td>\n",
       "      <td>...</td>\n",
       "      <td>No</td>\n",
       "      <td>No</td>\n",
       "      <td>One year</td>\n",
       "      <td>No</td>\n",
       "      <td>Bank transfer (automatic)</td>\n",
       "      <td>42.30</td>\n",
       "      <td>1840.75</td>\n",
       "      <td>0</td>\n",
       "      <td>3</td>\n",
       "      <td>No</td>\n",
       "    </tr>\n",
       "    <tr>\n",
       "      <th>4</th>\n",
       "      <td>9237-HQITU</td>\n",
       "      <td>Female</td>\n",
       "      <td>0</td>\n",
       "      <td>No</td>\n",
       "      <td>No</td>\n",
       "      <td>2</td>\n",
       "      <td>Yes</td>\n",
       "      <td>No</td>\n",
       "      <td>Fiber optic</td>\n",
       "      <td>No</td>\n",
       "      <td>...</td>\n",
       "      <td>No</td>\n",
       "      <td>No</td>\n",
       "      <td>Month-to-month</td>\n",
       "      <td>Yes</td>\n",
       "      <td>Electronic check</td>\n",
       "      <td>70.70</td>\n",
       "      <td>151.65</td>\n",
       "      <td>0</td>\n",
       "      <td>0</td>\n",
       "      <td>Yes</td>\n",
       "    </tr>\n",
       "  </tbody>\n",
       "</table>\n",
       "<p>5 rows × 23 columns</p>\n",
       "</div>"
      ],
      "text/plain": [
       "   customerID  gender  SeniorCitizen Partner Dependents  tenure PhoneService  \\\n",
       "0  7590-VHVEG  Female              0     Yes         No       1           No   \n",
       "1  5575-GNVDE    Male              0      No         No      34          Yes   \n",
       "2  3668-QPYBK    Male              0      No         No       2          Yes   \n",
       "3  7795-CFOCW    Male              0      No         No      45           No   \n",
       "4  9237-HQITU  Female              0      No         No       2          Yes   \n",
       "\n",
       "      MultipleLines InternetService OnlineSecurity  ... StreamingTV  \\\n",
       "0  No phone service             DSL             No  ...          No   \n",
       "1                No             DSL            Yes  ...          No   \n",
       "2                No             DSL            Yes  ...          No   \n",
       "3  No phone service             DSL            Yes  ...          No   \n",
       "4                No     Fiber optic             No  ...          No   \n",
       "\n",
       "  StreamingMovies        Contract PaperlessBilling              PaymentMethod  \\\n",
       "0              No  Month-to-month              Yes           Electronic check   \n",
       "1              No        One year               No               Mailed check   \n",
       "2              No  Month-to-month              Yes               Mailed check   \n",
       "3              No        One year               No  Bank transfer (automatic)   \n",
       "4              No  Month-to-month              Yes           Electronic check   \n",
       "\n",
       "  MonthlyCharges TotalCharges numAdminTickets  numTechTickets Churn  \n",
       "0          29.85        29.85               0               0    No  \n",
       "1          56.95       1889.5               0               0    No  \n",
       "2          53.85       108.15               0               0   Yes  \n",
       "3          42.30      1840.75               0               3    No  \n",
       "4          70.70       151.65               0               0   Yes  \n",
       "\n",
       "[5 rows x 23 columns]"
      ]
     },
     "execution_count": 2,
     "metadata": {},
     "output_type": "execute_result"
    }
   ],
   "source": [
    "churn_data = pd.read_excel('Churn_Data.xlsx')\n",
    "churn_data.head()"
   ]
  },
  {
   "cell_type": "code",
   "execution_count": 3,
   "id": "3fa23fa2-874d-4fc8-ab69-4dba124bc933",
   "metadata": {},
   "outputs": [
    {
     "data": {
      "text/html": [
       "<div>\n",
       "<style scoped>\n",
       "    .dataframe tbody tr th:only-of-type {\n",
       "        vertical-align: middle;\n",
       "    }\n",
       "\n",
       "    .dataframe tbody tr th {\n",
       "        vertical-align: top;\n",
       "    }\n",
       "\n",
       "    .dataframe thead th {\n",
       "        text-align: right;\n",
       "    }\n",
       "</style>\n",
       "<table border=\"1\" class=\"dataframe\">\n",
       "  <thead>\n",
       "    <tr style=\"text-align: right;\">\n",
       "      <th></th>\n",
       "      <th>customerID</th>\n",
       "      <th>SeniorCitizen</th>\n",
       "      <th>tenure</th>\n",
       "      <th>MonthlyCharges</th>\n",
       "      <th>TotalCharges</th>\n",
       "      <th>numAdminTickets</th>\n",
       "      <th>numTechTickets</th>\n",
       "      <th>Churn</th>\n",
       "      <th>gender_Male</th>\n",
       "      <th>Partner_Yes</th>\n",
       "      <th>...</th>\n",
       "      <th>StreamingTV_No internet service</th>\n",
       "      <th>StreamingTV_Yes</th>\n",
       "      <th>StreamingMovies_No internet service</th>\n",
       "      <th>StreamingMovies_Yes</th>\n",
       "      <th>Contract_One year</th>\n",
       "      <th>Contract_Two year</th>\n",
       "      <th>PaperlessBilling_Yes</th>\n",
       "      <th>PaymentMethod_Credit card (automatic)</th>\n",
       "      <th>PaymentMethod_Electronic check</th>\n",
       "      <th>PaymentMethod_Mailed check</th>\n",
       "    </tr>\n",
       "  </thead>\n",
       "  <tbody>\n",
       "    <tr>\n",
       "      <th>0</th>\n",
       "      <td>7590-VHVEG</td>\n",
       "      <td>0</td>\n",
       "      <td>1</td>\n",
       "      <td>29.85</td>\n",
       "      <td>29.85</td>\n",
       "      <td>0</td>\n",
       "      <td>0</td>\n",
       "      <td>No</td>\n",
       "      <td>0</td>\n",
       "      <td>1</td>\n",
       "      <td>...</td>\n",
       "      <td>0</td>\n",
       "      <td>0</td>\n",
       "      <td>0</td>\n",
       "      <td>0</td>\n",
       "      <td>0</td>\n",
       "      <td>0</td>\n",
       "      <td>1</td>\n",
       "      <td>0</td>\n",
       "      <td>1</td>\n",
       "      <td>0</td>\n",
       "    </tr>\n",
       "    <tr>\n",
       "      <th>1</th>\n",
       "      <td>5575-GNVDE</td>\n",
       "      <td>0</td>\n",
       "      <td>34</td>\n",
       "      <td>56.95</td>\n",
       "      <td>1889.5</td>\n",
       "      <td>0</td>\n",
       "      <td>0</td>\n",
       "      <td>No</td>\n",
       "      <td>1</td>\n",
       "      <td>0</td>\n",
       "      <td>...</td>\n",
       "      <td>0</td>\n",
       "      <td>0</td>\n",
       "      <td>0</td>\n",
       "      <td>0</td>\n",
       "      <td>1</td>\n",
       "      <td>0</td>\n",
       "      <td>0</td>\n",
       "      <td>0</td>\n",
       "      <td>0</td>\n",
       "      <td>1</td>\n",
       "    </tr>\n",
       "    <tr>\n",
       "      <th>2</th>\n",
       "      <td>3668-QPYBK</td>\n",
       "      <td>0</td>\n",
       "      <td>2</td>\n",
       "      <td>53.85</td>\n",
       "      <td>108.15</td>\n",
       "      <td>0</td>\n",
       "      <td>0</td>\n",
       "      <td>Yes</td>\n",
       "      <td>1</td>\n",
       "      <td>0</td>\n",
       "      <td>...</td>\n",
       "      <td>0</td>\n",
       "      <td>0</td>\n",
       "      <td>0</td>\n",
       "      <td>0</td>\n",
       "      <td>0</td>\n",
       "      <td>0</td>\n",
       "      <td>1</td>\n",
       "      <td>0</td>\n",
       "      <td>0</td>\n",
       "      <td>1</td>\n",
       "    </tr>\n",
       "    <tr>\n",
       "      <th>3</th>\n",
       "      <td>7795-CFOCW</td>\n",
       "      <td>0</td>\n",
       "      <td>45</td>\n",
       "      <td>42.30</td>\n",
       "      <td>1840.75</td>\n",
       "      <td>0</td>\n",
       "      <td>3</td>\n",
       "      <td>No</td>\n",
       "      <td>1</td>\n",
       "      <td>0</td>\n",
       "      <td>...</td>\n",
       "      <td>0</td>\n",
       "      <td>0</td>\n",
       "      <td>0</td>\n",
       "      <td>0</td>\n",
       "      <td>1</td>\n",
       "      <td>0</td>\n",
       "      <td>0</td>\n",
       "      <td>0</td>\n",
       "      <td>0</td>\n",
       "      <td>0</td>\n",
       "    </tr>\n",
       "    <tr>\n",
       "      <th>4</th>\n",
       "      <td>9237-HQITU</td>\n",
       "      <td>0</td>\n",
       "      <td>2</td>\n",
       "      <td>70.70</td>\n",
       "      <td>151.65</td>\n",
       "      <td>0</td>\n",
       "      <td>0</td>\n",
       "      <td>Yes</td>\n",
       "      <td>0</td>\n",
       "      <td>0</td>\n",
       "      <td>...</td>\n",
       "      <td>0</td>\n",
       "      <td>0</td>\n",
       "      <td>0</td>\n",
       "      <td>0</td>\n",
       "      <td>0</td>\n",
       "      <td>0</td>\n",
       "      <td>1</td>\n",
       "      <td>0</td>\n",
       "      <td>1</td>\n",
       "      <td>0</td>\n",
       "    </tr>\n",
       "  </tbody>\n",
       "</table>\n",
       "<p>5 rows × 34 columns</p>\n",
       "</div>"
      ],
      "text/plain": [
       "   customerID  SeniorCitizen  tenure  MonthlyCharges TotalCharges  \\\n",
       "0  7590-VHVEG              0       1           29.85        29.85   \n",
       "1  5575-GNVDE              0      34           56.95       1889.5   \n",
       "2  3668-QPYBK              0       2           53.85       108.15   \n",
       "3  7795-CFOCW              0      45           42.30      1840.75   \n",
       "4  9237-HQITU              0       2           70.70       151.65   \n",
       "\n",
       "   numAdminTickets  numTechTickets Churn  gender_Male  Partner_Yes  ...  \\\n",
       "0                0               0    No            0            1  ...   \n",
       "1                0               0    No            1            0  ...   \n",
       "2                0               0   Yes            1            0  ...   \n",
       "3                0               3    No            1            0  ...   \n",
       "4                0               0   Yes            0            0  ...   \n",
       "\n",
       "   StreamingTV_No internet service  StreamingTV_Yes  \\\n",
       "0                                0                0   \n",
       "1                                0                0   \n",
       "2                                0                0   \n",
       "3                                0                0   \n",
       "4                                0                0   \n",
       "\n",
       "   StreamingMovies_No internet service  StreamingMovies_Yes  \\\n",
       "0                                    0                    0   \n",
       "1                                    0                    0   \n",
       "2                                    0                    0   \n",
       "3                                    0                    0   \n",
       "4                                    0                    0   \n",
       "\n",
       "   Contract_One year  Contract_Two year  PaperlessBilling_Yes  \\\n",
       "0                  0                  0                     1   \n",
       "1                  1                  0                     0   \n",
       "2                  0                  0                     1   \n",
       "3                  1                  0                     0   \n",
       "4                  0                  0                     1   \n",
       "\n",
       "   PaymentMethod_Credit card (automatic)  PaymentMethod_Electronic check  \\\n",
       "0                                      0                               1   \n",
       "1                                      0                               0   \n",
       "2                                      0                               0   \n",
       "3                                      0                               0   \n",
       "4                                      0                               1   \n",
       "\n",
       "   PaymentMethod_Mailed check  \n",
       "0                           0  \n",
       "1                           1  \n",
       "2                           1  \n",
       "3                           0  \n",
       "4                           0  \n",
       "\n",
       "[5 rows x 34 columns]"
      ]
     },
     "execution_count": 3,
     "metadata": {},
     "output_type": "execute_result"
    }
   ],
   "source": [
    "# One Hot Encoding Categorical Data\n",
    "\n",
    "\n",
    "cols = churn_data.columns.to_list()\n",
    "\n",
    "object_cols = []\n",
    "\n",
    "for col in cols:\n",
    "    if churn_data[col].dtype == object and col not in ['customerID', 'TotalCharges', 'Churn']:\n",
    "        object_cols.append(col)\n",
    "\n",
    "churn_data = pd.get_dummies(churn_data, columns = object_cols, drop_first = True)\n",
    "churn_data.head()"
   ]
  },
  {
   "cell_type": "code",
   "execution_count": 4,
   "id": "99430b22-6e33-4e82-b231-4a12fe5aa4bb",
   "metadata": {},
   "outputs": [
    {
     "data": {
      "text/plain": [
       "(7043, 34)"
      ]
     },
     "execution_count": 4,
     "metadata": {},
     "output_type": "execute_result"
    }
   ],
   "source": [
    "churn_data.shape"
   ]
  },
  {
   "cell_type": "code",
   "execution_count": 5,
   "id": "a213a7eb-0fc8-4655-b038-2516376ed6d8",
   "metadata": {},
   "outputs": [
    {
     "data": {
      "text/plain": [
       "(7032, 34)"
      ]
     },
     "execution_count": 5,
     "metadata": {},
     "output_type": "execute_result"
    }
   ],
   "source": [
    "# Handling missing data\n",
    "\n",
    "churn_data.drop(churn_data[churn_data['TotalCharges'] == ' '].index, inplace=True)\n",
    "churn_data.shape"
   ]
  },
  {
   "cell_type": "code",
   "execution_count": 6,
   "id": "47a2941c-4ff5-414c-978e-49bc0f9031ae",
   "metadata": {},
   "outputs": [],
   "source": [
    "churn_data['TotalCharges'] = churn_data['TotalCharges'].astype(float)"
   ]
  },
  {
   "cell_type": "code",
   "execution_count": 7,
   "id": "5c048b43-747c-47a5-b1fe-3e0c51ed8996",
   "metadata": {},
   "outputs": [],
   "source": [
    "# Transforming the target variable from No/Yes to 0/1\n",
    "\n",
    "churn_data['Churn'].replace(['No', 'Yes'], [0, 1], inplace = True)"
   ]
  },
  {
   "cell_type": "code",
   "execution_count": 8,
   "id": "033c4c46-9c23-4687-8ac0-42723fa62fa3",
   "metadata": {},
   "outputs": [],
   "source": [
    "X = churn_data.drop(['customerID', 'Churn'], axis = 1)\n",
    "y = churn_data['Churn']"
   ]
  },
  {
   "cell_type": "code",
   "execution_count": 9,
   "id": "898c3ecc-671a-48c2-b126-5322f2f1527a",
   "metadata": {},
   "outputs": [
    {
     "data": {
      "text/plain": [
       "(7032, 32)"
      ]
     },
     "execution_count": 9,
     "metadata": {},
     "output_type": "execute_result"
    }
   ],
   "source": [
    "# Standardising the numeric data\n",
    "\n",
    "numeric_columns = ['tenure', 'MonthlyCharges', 'TotalCharges', 'numAdminTickets', 'numTechTickets']\n",
    "\n",
    "scaler = StandardScaler()\n",
    "X[numeric_columns] = scaler.fit_transform(X[numeric_columns])\n",
    "\n",
    "X.shape"
   ]
  },
  {
   "cell_type": "code",
   "execution_count": 10,
   "id": "f1ad31bf-4cbe-4801-8716-5a6fff064088",
   "metadata": {},
   "outputs": [
    {
     "name": "stdout",
     "output_type": "stream",
     "text": [
      "(5625, 32)\n",
      "(1407, 32)\n",
      "(5625,)\n",
      "(1407,)\n"
     ]
    },
    {
     "data": {
      "text/plain": [
       "(None, None, None, None)"
      ]
     },
     "execution_count": 10,
     "metadata": {},
     "output_type": "execute_result"
    }
   ],
   "source": [
    "# Train/Test split with stratify on the target variable to handle the target class imbalance\n",
    "\n",
    "X_train, X_test, y_train, y_test = train_test_split(X, y, test_size=0.2, stratify = y, random_state=42)\n",
    "\n",
    "print(X_train.shape), print(X_test.shape), print(y_train.shape), print(y_test.shape)"
   ]
  },
  {
   "cell_type": "code",
   "execution_count": 11,
   "id": "6e8656fb-5282-47c8-9460-52b48b5cb314",
   "metadata": {},
   "outputs": [],
   "source": [
    "# Function to determine the optimal threshold for individual model\n",
    "\n",
    "def find_threshold(classifier, test_data, test_labels):\n",
    "    y_proba_thresh = classifier.predict_proba(test_data)[::,1]\n",
    "    \n",
    "    fpr, tpr, thresholds = roc_curve(test_labels, y_proba_thresh)\n",
    "\n",
    "    y_proba = classifier.predict_proba(test_data)\n",
    "    y_pred = classifier.predict(test_data)\n",
    "\n",
    "    f1_scores = []\n",
    "\n",
    "    for threshold in thresholds:\n",
    "        y_pred = (y_proba[:, 1] > threshold).astype(int)\n",
    "        f1_scores.append(f1_score(test_labels, y_pred))\n",
    "\n",
    "    optimal_threshold = thresholds[np.argmax(f1_scores)]\n",
    "\n",
    "    print(f\"The optimum threshold is {optimal_threshold.round(3)} with an F1 score of {max(f1_scores).round(3)}\")\n",
    "    return optimal_threshold"
   ]
  },
  {
   "cell_type": "code",
   "execution_count": 12,
   "id": "77da3ffa-7259-46df-b392-8103d604d354",
   "metadata": {},
   "outputs": [],
   "source": [
    "# Function to aggregate the relevant metrics for individual model\n",
    "\n",
    "def calculate_metrics(model_name, y_true, predictions):\n",
    "    \n",
    "    rscore = recall_score(y_true, predictions)\n",
    "    pscore = precision_score(y_true, predictions)\n",
    "    fscore = f1_score(y_true, predictions)\n",
    "    rascore = roc_auc_score(y_true, predictions)\n",
    "\n",
    "    results = [(rscore, pscore, fscore, rascore)]\n",
    "    classifier_metrics = pd.DataFrame(data = results, columns=['Recall','Precision','F1 Score', 'ROC-AUC Score'])\n",
    "    classifier_metrics.insert(0, 'Model', model_name)\n",
    "    print(classifier_metrics)\n",
    "    return classifier_metrics"
   ]
  },
  {
   "cell_type": "code",
   "execution_count": 13,
   "id": "89593ebe-54cd-423e-a418-046c0bb471d9",
   "metadata": {},
   "outputs": [
    {
     "name": "stdout",
     "output_type": "stream",
     "text": [
      "                 Model    Recall  Precision  F1 Score  ROC-AUC Score\n",
      "0  Logistic Regression  0.713904   0.723577  0.718708       0.807581\n"
     ]
    }
   ],
   "source": [
    "# Vanilla Logistic Regression\n",
    "\n",
    "clf = LogisticRegression(random_state = 42)\n",
    "\n",
    "clf.fit(X_train, y_train)\n",
    "y_pred = clf.predict(X_test)\n",
    "\n",
    "clf_metrics = calculate_metrics('Logistic Regression', y_test, y_pred)"
   ]
  },
  {
   "cell_type": "code",
   "execution_count": 14,
   "id": "cb3a9d58-2305-4eca-9c18-184f4f4f2c9b",
   "metadata": {},
   "outputs": [
    {
     "name": "stdout",
     "output_type": "stream",
     "text": [
      "The optimum threshold is 0.448 with an F1 score of 0.726\n"
     ]
    }
   ],
   "source": [
    "# Determining the optimal threshold for the Vanilla Logistic Regression\n",
    "\n",
    "optimal_threshold = find_threshold(clf, X_test, y_test)"
   ]
  },
  {
   "cell_type": "code",
   "execution_count": 15,
   "id": "b6ac6f56-2f3c-49b2-9878-683faa4591eb",
   "metadata": {},
   "outputs": [
    {
     "name": "stdout",
     "output_type": "stream",
     "text": [
      "                                   Model    Recall  Precision  F1 Score  \\\n",
      "0  Optimal Threshold Logistic Regression  0.751337     0.7025  0.726098   \n",
      "\n",
      "   ROC-AUC Score  \n",
      "0       0.818069  \n"
     ]
    }
   ],
   "source": [
    "y_proba = clf.predict_proba(X_test)\n",
    "y_pred = (y_proba[:, 1] > optimal_threshold).astype(int)\n",
    "\n",
    "clf_thresh_metrics = calculate_metrics('Optimal Threshold Logistic Regression', y_test, y_pred)"
   ]
  },
  {
   "cell_type": "code",
   "execution_count": 16,
   "id": "8bc7677e-ca64-4421-8cff-61487af28a01",
   "metadata": {},
   "outputs": [
    {
     "data": {
      "text/html": [
       "<div>\n",
       "<style scoped>\n",
       "    .dataframe tbody tr th:only-of-type {\n",
       "        vertical-align: middle;\n",
       "    }\n",
       "\n",
       "    .dataframe tbody tr th {\n",
       "        vertical-align: top;\n",
       "    }\n",
       "\n",
       "    .dataframe thead th {\n",
       "        text-align: right;\n",
       "    }\n",
       "</style>\n",
       "<table border=\"1\" class=\"dataframe\">\n",
       "  <thead>\n",
       "    <tr style=\"text-align: right;\">\n",
       "      <th></th>\n",
       "      <th>Model</th>\n",
       "      <th>Recall</th>\n",
       "      <th>Precision</th>\n",
       "      <th>F1 Score</th>\n",
       "      <th>ROC-AUC Score</th>\n",
       "    </tr>\n",
       "  </thead>\n",
       "  <tbody>\n",
       "    <tr>\n",
       "      <th>0</th>\n",
       "      <td>Logistic Regression</td>\n",
       "      <td>0.713904</td>\n",
       "      <td>0.723577</td>\n",
       "      <td>0.718708</td>\n",
       "      <td>0.807581</td>\n",
       "    </tr>\n",
       "    <tr>\n",
       "      <th>0</th>\n",
       "      <td>Optimal Threshold Logistic Regression</td>\n",
       "      <td>0.751337</td>\n",
       "      <td>0.702500</td>\n",
       "      <td>0.726098</td>\n",
       "      <td>0.818069</td>\n",
       "    </tr>\n",
       "  </tbody>\n",
       "</table>\n",
       "</div>"
      ],
      "text/plain": [
       "                                   Model    Recall  Precision  F1 Score  \\\n",
       "0                    Logistic Regression  0.713904   0.723577  0.718708   \n",
       "0  Optimal Threshold Logistic Regression  0.751337   0.702500  0.726098   \n",
       "\n",
       "   ROC-AUC Score  \n",
       "0       0.807581  \n",
       "0       0.818069  "
      ]
     },
     "execution_count": 16,
     "metadata": {},
     "output_type": "execute_result"
    }
   ],
   "source": [
    "pd.concat([clf_metrics, clf_thresh_metrics])"
   ]
  },
  {
   "cell_type": "code",
   "execution_count": 17,
   "id": "a0724845-2abc-48f2-a467-579754779f7f",
   "metadata": {},
   "outputs": [
    {
     "name": "stdout",
     "output_type": "stream",
     "text": [
      "{'C': 100}\n"
     ]
    }
   ],
   "source": [
    "# Hyperparameter tuning the Vanilla Logistic Regression\n",
    "\n",
    "grid = {'C': [0.001,0.01,0.1,1,10,100,1000]}\n",
    "\n",
    "clf = LogisticRegression(max_iter = 1000, random_state = 42)\n",
    "\n",
    "clf_grid = GridSearchCV(clf, grid, cv=8, scoring = 'f1')\n",
    "clf_grid.fit(X_train, y_train)\n",
    "\n",
    "best_params = clf_grid.best_params_\n",
    "best_model = clf_grid.best_estimator_\n",
    "\n",
    "print(best_params)"
   ]
  },
  {
   "cell_type": "code",
   "execution_count": 18,
   "id": "d7ef1e92-40ca-46fa-86bb-3059516d134f",
   "metadata": {},
   "outputs": [
    {
     "name": "stdout",
     "output_type": "stream",
     "text": [
      "                       Model    Recall  Precision  F1 Score  ROC-AUC Score\n",
      "0  Tuned Logistic Regression  0.700535   0.715847  0.708108       0.799929\n"
     ]
    }
   ],
   "source": [
    "clf_100 = LogisticRegression(C = 100, random_state = 42)\n",
    "\n",
    "clf_100.fit(X_train, y_train)\n",
    "y_pred = clf_100.predict(X_test)\n",
    "\n",
    "clf_100_metrics = calculate_metrics('Tuned Logistic Regression', y_test, y_pred)"
   ]
  },
  {
   "cell_type": "code",
   "execution_count": 19,
   "id": "b0f1a67d-16a5-4847-a447-762e114410fd",
   "metadata": {},
   "outputs": [
    {
     "name": "stdout",
     "output_type": "stream",
     "text": [
      "The optimum threshold is 0.336 with an F1 score of 0.721\n"
     ]
    }
   ],
   "source": [
    "# Determining the optimal threshold for the tuned Logistic Regression\n",
    "\n",
    "optimal_threshold = find_threshold(clf_100, X_test, y_test)"
   ]
  },
  {
   "cell_type": "code",
   "execution_count": 20,
   "id": "b3e6358f-b239-4f1d-a5be-1376e3eef181",
   "metadata": {},
   "outputs": [
    {
     "name": "stdout",
     "output_type": "stream",
     "text": [
      "                                 Model    Recall  Precision  F1 Score  \\\n",
      "0  Tuned Threshold Logistic Regression  0.828877    0.63786   0.72093   \n",
      "\n",
      "   ROC-AUC Score  \n",
      "0        0.82925  \n"
     ]
    }
   ],
   "source": [
    "y_proba = clf_100.predict_proba(X_test)\n",
    "y_pred = (y_proba[:, 1] > optimal_threshold).astype(int)\n",
    "\n",
    "clf_100_thresh_metrics = calculate_metrics('Tuned Threshold Logistic Regression', y_test, y_pred)"
   ]
  },
  {
   "cell_type": "code",
   "execution_count": 21,
   "id": "6a346bf0-0e1a-4a7e-9b8a-a319f4481768",
   "metadata": {},
   "outputs": [
    {
     "data": {
      "text/html": [
       "<div>\n",
       "<style scoped>\n",
       "    .dataframe tbody tr th:only-of-type {\n",
       "        vertical-align: middle;\n",
       "    }\n",
       "\n",
       "    .dataframe tbody tr th {\n",
       "        vertical-align: top;\n",
       "    }\n",
       "\n",
       "    .dataframe thead th {\n",
       "        text-align: right;\n",
       "    }\n",
       "</style>\n",
       "<table border=\"1\" class=\"dataframe\">\n",
       "  <thead>\n",
       "    <tr style=\"text-align: right;\">\n",
       "      <th></th>\n",
       "      <th>Model</th>\n",
       "      <th>Recall</th>\n",
       "      <th>Precision</th>\n",
       "      <th>F1 Score</th>\n",
       "      <th>ROC-AUC Score</th>\n",
       "    </tr>\n",
       "  </thead>\n",
       "  <tbody>\n",
       "    <tr>\n",
       "      <th>0</th>\n",
       "      <td>Logistic Regression</td>\n",
       "      <td>0.713904</td>\n",
       "      <td>0.723577</td>\n",
       "      <td>0.718708</td>\n",
       "      <td>0.807581</td>\n",
       "    </tr>\n",
       "    <tr>\n",
       "      <th>0</th>\n",
       "      <td>Optimal Threshold Logistic Regression</td>\n",
       "      <td>0.751337</td>\n",
       "      <td>0.702500</td>\n",
       "      <td>0.726098</td>\n",
       "      <td>0.818069</td>\n",
       "    </tr>\n",
       "    <tr>\n",
       "      <th>0</th>\n",
       "      <td>Tuned Logistic Regression</td>\n",
       "      <td>0.700535</td>\n",
       "      <td>0.715847</td>\n",
       "      <td>0.708108</td>\n",
       "      <td>0.799929</td>\n",
       "    </tr>\n",
       "    <tr>\n",
       "      <th>0</th>\n",
       "      <td>Tuned Threshold Logistic Regression</td>\n",
       "      <td>0.828877</td>\n",
       "      <td>0.637860</td>\n",
       "      <td>0.720930</td>\n",
       "      <td>0.829250</td>\n",
       "    </tr>\n",
       "  </tbody>\n",
       "</table>\n",
       "</div>"
      ],
      "text/plain": [
       "                                   Model    Recall  Precision  F1 Score  \\\n",
       "0                    Logistic Regression  0.713904   0.723577  0.718708   \n",
       "0  Optimal Threshold Logistic Regression  0.751337   0.702500  0.726098   \n",
       "0              Tuned Logistic Regression  0.700535   0.715847  0.708108   \n",
       "0    Tuned Threshold Logistic Regression  0.828877   0.637860  0.720930   \n",
       "\n",
       "   ROC-AUC Score  \n",
       "0       0.807581  \n",
       "0       0.818069  \n",
       "0       0.799929  \n",
       "0       0.829250  "
      ]
     },
     "execution_count": 21,
     "metadata": {},
     "output_type": "execute_result"
    }
   ],
   "source": [
    "# Metrics for the variants of the Logistic Regression\n",
    "\n",
    "logistic = pd.concat([clf_metrics, clf_thresh_metrics, clf_100_metrics, clf_100_thresh_metrics])\n",
    "logistic"
   ]
  },
  {
   "cell_type": "code",
   "execution_count": 22,
   "id": "84828546-ba8a-4d6f-a924-5c1ea05b45c3",
   "metadata": {},
   "outputs": [
    {
     "name": "stdout",
     "output_type": "stream",
     "text": [
      "            Model    Recall  Precision  F1 Score  ROC-AUC Score\n",
      "0  SVM Classifier  0.665775   0.736686  0.699438       0.789809\n"
     ]
    }
   ],
   "source": [
    "# Vanilla SVM Classifier\n",
    "\n",
    "clf_svc = SVC(probability = True, random_state = 42)\n",
    "\n",
    "clf_svc.fit(X_train, y_train)\n",
    "y_pred = clf_svc.predict(X_test)\n",
    "\n",
    "clf_svc_metrics = calculate_metrics('SVM Classifier', y_test, y_pred)"
   ]
  },
  {
   "cell_type": "code",
   "execution_count": 23,
   "id": "c8f5af0f-b73d-4875-a172-2a19d29239c0",
   "metadata": {},
   "outputs": [
    {
     "name": "stdout",
     "output_type": "stream",
     "text": [
      "The optimum threshold is 0.249 with an F1 score of 0.742\n"
     ]
    }
   ],
   "source": [
    "# Determining the optimal threshold for the Vanilla SVM Classifier\n",
    "\n",
    "optimal_threshold = find_threshold(clf_svc, X_test, y_test)"
   ]
  },
  {
   "cell_type": "code",
   "execution_count": 24,
   "id": "06d54f3c-bf60-4165-945d-559375beb9f4",
   "metadata": {},
   "outputs": [
    {
     "name": "stdout",
     "output_type": "stream",
     "text": [
      "                              Model    Recall  Precision  F1 Score  \\\n",
      "0  Optimal Threshold SVM Classifier  0.804813   0.688787  0.742293   \n",
      "\n",
      "   ROC-AUC Score  \n",
      "0       0.836579  \n"
     ]
    }
   ],
   "source": [
    "y_proba = clf_svc.predict_proba(X_test)\n",
    "y_pred = (y_proba[:, 1] > optimal_threshold).astype(int)\n",
    "\n",
    "clf_svc_thresh_metrics = calculate_metrics('Optimal Threshold SVM Classifier', y_test, y_pred)"
   ]
  },
  {
   "cell_type": "code",
   "execution_count": 25,
   "id": "2f8688cd-d511-4322-a33b-fa9fe9eae4da",
   "metadata": {},
   "outputs": [
    {
     "name": "stdout",
     "output_type": "stream",
     "text": [
      "{'C': 10, 'gamma': 0.01}\n"
     ]
    }
   ],
   "source": [
    "# Hyperparameter tuning the Vanilla SVM Classifier\n",
    "\n",
    "grid = {'C': [0.001,0.01,0.1,1,10,100,1000],\n",
    "        'gamma': [1, 0.1, 0.01, 0.001, 0.0001]}\n",
    "\n",
    "clf_svc = SVC(probability = True, max_iter = -1, random_state = 42)\n",
    "\n",
    "clf_svc_grid = GridSearchCV(clf_svc, grid, cv=8, scoring = 'f1')\n",
    "clf_svc_grid.fit(X_train, y_train)\n",
    "\n",
    "best_params = clf_svc_grid.best_params_\n",
    "best_model = clf_svc_grid.best_estimator_\n",
    "\n",
    "print(best_params)"
   ]
  },
  {
   "cell_type": "code",
   "execution_count": 26,
   "id": "83070a76-91df-489e-ad8b-e1df33f64b4f",
   "metadata": {},
   "outputs": [
    {
     "name": "stdout",
     "output_type": "stream",
     "text": [
      "                  Model    Recall  Precision  F1 Score  ROC-AUC Score\n",
      "0  Tuned SVM Classifier  0.679144   0.747059  0.711485       0.797946\n"
     ]
    }
   ],
   "source": [
    "clf_svc_10_001 = SVC(C = 10, gamma = 0.01, probability = True, random_state = 42)\n",
    "\n",
    "clf_svc_10_001.fit(X_train, y_train)\n",
    "y_pred = clf_svc_10_001.predict(X_test)\n",
    "\n",
    "clf_svc_10_001_metrics = calculate_metrics('Tuned SVM Classifier', y_test, y_pred)"
   ]
  },
  {
   "cell_type": "code",
   "execution_count": 27,
   "id": "b6715a22-0f88-4f8c-974c-e7f084c1b2a3",
   "metadata": {},
   "outputs": [
    {
     "name": "stdout",
     "output_type": "stream",
     "text": [
      "The optimum threshold is 0.315 with an F1 score of 0.744\n"
     ]
    }
   ],
   "source": [
    "# Dtermining the optimal threshold for the tuned SVM Classifier\n",
    "\n",
    "optimal_threshold = find_threshold(clf_svc_10_001, X_test, y_test)"
   ]
  },
  {
   "cell_type": "code",
   "execution_count": 28,
   "id": "b18682cb-3dd8-4e09-ab81-dcf8d2f7fd0c",
   "metadata": {},
   "outputs": [
    {
     "name": "stdout",
     "output_type": "stream",
     "text": [
      "                            Model    Recall  Precision  F1 Score  \\\n",
      "0  Tuned Threshold SVM Classifier  0.802139   0.694444  0.744417   \n",
      "\n",
      "   ROC-AUC Score  \n",
      "0       0.837178  \n"
     ]
    }
   ],
   "source": [
    "y_proba = clf_svc_10_001.predict_proba(X_test)\n",
    "y_pred = (y_proba[:, 1] > optimal_threshold).astype(int)\n",
    "\n",
    "clf_svc_10_001_thresh_metrics = calculate_metrics('Tuned Threshold SVM Classifier', y_test, y_pred)"
   ]
  },
  {
   "cell_type": "code",
   "execution_count": 29,
   "id": "d9701d8f-4aa8-49db-a862-6fd0d984cac9",
   "metadata": {},
   "outputs": [
    {
     "data": {
      "text/html": [
       "<div>\n",
       "<style scoped>\n",
       "    .dataframe tbody tr th:only-of-type {\n",
       "        vertical-align: middle;\n",
       "    }\n",
       "\n",
       "    .dataframe tbody tr th {\n",
       "        vertical-align: top;\n",
       "    }\n",
       "\n",
       "    .dataframe thead th {\n",
       "        text-align: right;\n",
       "    }\n",
       "</style>\n",
       "<table border=\"1\" class=\"dataframe\">\n",
       "  <thead>\n",
       "    <tr style=\"text-align: right;\">\n",
       "      <th></th>\n",
       "      <th>Model</th>\n",
       "      <th>Recall</th>\n",
       "      <th>Precision</th>\n",
       "      <th>F1 Score</th>\n",
       "      <th>ROC-AUC Score</th>\n",
       "    </tr>\n",
       "  </thead>\n",
       "  <tbody>\n",
       "    <tr>\n",
       "      <th>0</th>\n",
       "      <td>SVM Classifier</td>\n",
       "      <td>0.665775</td>\n",
       "      <td>0.736686</td>\n",
       "      <td>0.699438</td>\n",
       "      <td>0.789809</td>\n",
       "    </tr>\n",
       "    <tr>\n",
       "      <th>0</th>\n",
       "      <td>Optimal Threshold SVM Classifier</td>\n",
       "      <td>0.804813</td>\n",
       "      <td>0.688787</td>\n",
       "      <td>0.742293</td>\n",
       "      <td>0.836579</td>\n",
       "    </tr>\n",
       "    <tr>\n",
       "      <th>0</th>\n",
       "      <td>Tuned SVM Classifier</td>\n",
       "      <td>0.679144</td>\n",
       "      <td>0.747059</td>\n",
       "      <td>0.711485</td>\n",
       "      <td>0.797946</td>\n",
       "    </tr>\n",
       "    <tr>\n",
       "      <th>0</th>\n",
       "      <td>Tuned Threshold SVM Classifier</td>\n",
       "      <td>0.802139</td>\n",
       "      <td>0.694444</td>\n",
       "      <td>0.744417</td>\n",
       "      <td>0.837178</td>\n",
       "    </tr>\n",
       "  </tbody>\n",
       "</table>\n",
       "</div>"
      ],
      "text/plain": [
       "                              Model    Recall  Precision  F1 Score  \\\n",
       "0                    SVM Classifier  0.665775   0.736686  0.699438   \n",
       "0  Optimal Threshold SVM Classifier  0.804813   0.688787  0.742293   \n",
       "0              Tuned SVM Classifier  0.679144   0.747059  0.711485   \n",
       "0    Tuned Threshold SVM Classifier  0.802139   0.694444  0.744417   \n",
       "\n",
       "   ROC-AUC Score  \n",
       "0       0.789809  \n",
       "0       0.836579  \n",
       "0       0.797946  \n",
       "0       0.837178  "
      ]
     },
     "execution_count": 29,
     "metadata": {},
     "output_type": "execute_result"
    }
   ],
   "source": [
    "# Metrics for the variants of the SVM Classifier\n",
    "\n",
    "supvecclass = pd.concat([clf_svc_metrics, clf_svc_thresh_metrics, clf_svc_10_001_metrics, clf_svc_10_001_thresh_metrics])\n",
    "supvecclass"
   ]
  },
  {
   "cell_type": "code",
   "execution_count": 33,
   "id": "2cc2bb04-00a1-411f-9435-fb7c7d37eeb4",
   "metadata": {},
   "outputs": [
    {
     "data": {
      "text/html": [
       "<div>\n",
       "<style scoped>\n",
       "    .dataframe tbody tr th:only-of-type {\n",
       "        vertical-align: middle;\n",
       "    }\n",
       "\n",
       "    .dataframe tbody tr th {\n",
       "        vertical-align: top;\n",
       "    }\n",
       "\n",
       "    .dataframe thead th {\n",
       "        text-align: right;\n",
       "    }\n",
       "</style>\n",
       "<table border=\"1\" class=\"dataframe\">\n",
       "  <thead>\n",
       "    <tr style=\"text-align: right;\">\n",
       "      <th></th>\n",
       "      <th>Model</th>\n",
       "      <th>Recall</th>\n",
       "      <th>Precision</th>\n",
       "      <th>F1 Score</th>\n",
       "      <th>ROC-AUC Score</th>\n",
       "    </tr>\n",
       "  </thead>\n",
       "  <tbody>\n",
       "    <tr>\n",
       "      <th>0</th>\n",
       "      <td>Tuned Threshold SVM Classifier</td>\n",
       "      <td>0.802139</td>\n",
       "      <td>0.694444</td>\n",
       "      <td>0.744417</td>\n",
       "      <td>0.837178</td>\n",
       "    </tr>\n",
       "    <tr>\n",
       "      <th>0</th>\n",
       "      <td>Optimal Threshold SVM Classifier</td>\n",
       "      <td>0.804813</td>\n",
       "      <td>0.688787</td>\n",
       "      <td>0.742293</td>\n",
       "      <td>0.836579</td>\n",
       "    </tr>\n",
       "    <tr>\n",
       "      <th>0</th>\n",
       "      <td>Optimal Threshold Logistic Regression</td>\n",
       "      <td>0.751337</td>\n",
       "      <td>0.702500</td>\n",
       "      <td>0.726098</td>\n",
       "      <td>0.818069</td>\n",
       "    </tr>\n",
       "    <tr>\n",
       "      <th>0</th>\n",
       "      <td>Tuned Threshold Logistic Regression</td>\n",
       "      <td>0.828877</td>\n",
       "      <td>0.637860</td>\n",
       "      <td>0.720930</td>\n",
       "      <td>0.829250</td>\n",
       "    </tr>\n",
       "    <tr>\n",
       "      <th>0</th>\n",
       "      <td>Logistic Regression</td>\n",
       "      <td>0.713904</td>\n",
       "      <td>0.723577</td>\n",
       "      <td>0.718708</td>\n",
       "      <td>0.807581</td>\n",
       "    </tr>\n",
       "    <tr>\n",
       "      <th>0</th>\n",
       "      <td>Tuned SVM Classifier</td>\n",
       "      <td>0.679144</td>\n",
       "      <td>0.747059</td>\n",
       "      <td>0.711485</td>\n",
       "      <td>0.797946</td>\n",
       "    </tr>\n",
       "    <tr>\n",
       "      <th>0</th>\n",
       "      <td>Tuned Logistic Regression</td>\n",
       "      <td>0.700535</td>\n",
       "      <td>0.715847</td>\n",
       "      <td>0.708108</td>\n",
       "      <td>0.799929</td>\n",
       "    </tr>\n",
       "    <tr>\n",
       "      <th>0</th>\n",
       "      <td>SVM Classifier</td>\n",
       "      <td>0.665775</td>\n",
       "      <td>0.736686</td>\n",
       "      <td>0.699438</td>\n",
       "      <td>0.789809</td>\n",
       "    </tr>\n",
       "  </tbody>\n",
       "</table>\n",
       "</div>"
      ],
      "text/plain": [
       "                                   Model    Recall  Precision  F1 Score  \\\n",
       "0         Tuned Threshold SVM Classifier  0.802139   0.694444  0.744417   \n",
       "0       Optimal Threshold SVM Classifier  0.804813   0.688787  0.742293   \n",
       "0  Optimal Threshold Logistic Regression  0.751337   0.702500  0.726098   \n",
       "0    Tuned Threshold Logistic Regression  0.828877   0.637860  0.720930   \n",
       "0                    Logistic Regression  0.713904   0.723577  0.718708   \n",
       "0                   Tuned SVM Classifier  0.679144   0.747059  0.711485   \n",
       "0              Tuned Logistic Regression  0.700535   0.715847  0.708108   \n",
       "0                         SVM Classifier  0.665775   0.736686  0.699438   \n",
       "\n",
       "   ROC-AUC Score  \n",
       "0       0.837178  \n",
       "0       0.836579  \n",
       "0       0.818069  \n",
       "0       0.829250  \n",
       "0       0.807581  \n",
       "0       0.797946  \n",
       "0       0.799929  \n",
       "0       0.789809  "
      ]
     },
     "execution_count": 33,
     "metadata": {},
     "output_type": "execute_result"
    }
   ],
   "source": [
    "# Metrics for the variants of the Logistic Regression and SVM Classifiers\n",
    "\n",
    "logreg_svc = pd.concat([logistic, supvecclass])\n",
    "logreg_svc.sort_values('F1 Score', ascending = False)"
   ]
  }
 ],
 "metadata": {
  "kernelspec": {
   "display_name": "Python 3 (ipykernel)",
   "language": "python",
   "name": "python3"
  },
  "language_info": {
   "codemirror_mode": {
    "name": "ipython",
    "version": 3
   },
   "file_extension": ".py",
   "mimetype": "text/x-python",
   "name": "python",
   "nbconvert_exporter": "python",
   "pygments_lexer": "ipython3",
   "version": "3.10.4"
  }
 },
 "nbformat": 4,
 "nbformat_minor": 5
}
